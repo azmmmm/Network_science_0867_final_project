{
 "cells": [
  {
   "cell_type": "code",
   "execution_count": 2,
   "metadata": {},
   "outputs": [],
   "source": [
    "import pandas as pd\n",
    "import networkx as nx\n",
    "from utils import annual_graph,total_graph\n",
    "import os"
   ]
  },
  {
   "cell_type": "markdown",
   "metadata": {},
   "source": [
    "###合并分页数据"
   ]
  },
  {
   "cell_type": "code",
   "execution_count": 16,
   "metadata": {},
   "outputs": [
    {
     "name": "stdout",
     "output_type": "stream",
     "text": [
      "['data_2016_60000_70000.csv', 'data_2016_80000_85000.csv', 'data_2016_135000_140000.csv', 'data_2016_85000_90000.csv', 'data_2016_20000_30000.csv'] ....\n",
      "['data_2017_20000_30000.csv', 'data_2017_70000_80000.csv', 'data_2017_40000_50000.csv', 'data_2017_30000_40000.csv', 'data_2017_50000_60000.csv'] ....\n"
     ]
    }
   ],
   "source": [
    "data_paths=['./data/data_json/2016/','./data/data_json/2017/']\n",
    "save_path='./data/'\n",
    "for path in data_paths:\n",
    "    datasets=os.listdir(path)\n",
    "    print(datasets[0:5],'....')\n",
    "\n",
    "    frames=[]\n",
    "    for data in datasets:\n",
    "        df=pd.read_csv(path+data,dtype=str)\n",
    "        frames.append(df)\n",
    "    result=pd.concat(frames)\n",
    "    result.to_csv(save_path+datasets[0][0:9]+'.csv',index=False)"
   ]
  },
  {
   "cell_type": "markdown",
   "metadata": {},
   "source": [
    "##数据 ->图"
   ]
  },
  {
   "cell_type": "code",
   "execution_count": 4,
   "metadata": {},
   "outputs": [
    {
     "data": {
      "text/html": [
       "<div>\n",
       "<style scoped>\n",
       "    .dataframe tbody tr th:only-of-type {\n",
       "        vertical-align: middle;\n",
       "    }\n",
       "\n",
       "    .dataframe tbody tr th {\n",
       "        vertical-align: top;\n",
       "    }\n",
       "\n",
       "    .dataframe thead th {\n",
       "        text-align: right;\n",
       "    }\n",
       "</style>\n",
       "<table border=\"1\" class=\"dataframe\">\n",
       "  <thead>\n",
       "    <tr style=\"text-align: right;\">\n",
       "      <th></th>\n",
       "      <th>code</th>\n",
       "      <th>name</th>\n",
       "      <th>note</th>\n",
       "      <th>productClassification</th>\n",
       "      <th>codeUnique</th>\n",
       "      <th>displayOrder</th>\n",
       "      <th>hierarchy</th>\n",
       "    </tr>\n",
       "  </thead>\n",
       "  <tbody>\n",
       "    <tr>\n",
       "      <th>0</th>\n",
       "      <td>01</td>\n",
       "      <td>Animal products</td>\n",
       "      <td>NaN</td>\n",
       "      <td>MT2</td>\n",
       "      <td>MT2 - 01 -</td>\n",
       "      <td>NaN</td>\n",
       "      <td>01</td>\n",
       "    </tr>\n",
       "    <tr>\n",
       "      <th>1</th>\n",
       "      <td>02</td>\n",
       "      <td>Dairy products</td>\n",
       "      <td>NaN</td>\n",
       "      <td>MT2</td>\n",
       "      <td>MT2 - 02 -</td>\n",
       "      <td>NaN</td>\n",
       "      <td>02</td>\n",
       "    </tr>\n",
       "    <tr>\n",
       "      <th>2</th>\n",
       "      <td>03</td>\n",
       "      <td>Fruits, vegetables, plants</td>\n",
       "      <td>NaN</td>\n",
       "      <td>MT2</td>\n",
       "      <td>MT2 - 03 -</td>\n",
       "      <td>NaN</td>\n",
       "      <td>03</td>\n",
       "    </tr>\n",
       "    <tr>\n",
       "      <th>3</th>\n",
       "      <td>04</td>\n",
       "      <td>Coffee, tea</td>\n",
       "      <td>NaN</td>\n",
       "      <td>MT2</td>\n",
       "      <td>MT2 - 04 -</td>\n",
       "      <td>NaN</td>\n",
       "      <td>04</td>\n",
       "    </tr>\n",
       "    <tr>\n",
       "      <th>4</th>\n",
       "      <td>05</td>\n",
       "      <td>Cereals and preparations</td>\n",
       "      <td>NaN</td>\n",
       "      <td>MT2</td>\n",
       "      <td>MT2 - 05 -</td>\n",
       "      <td>NaN</td>\n",
       "      <td>05</td>\n",
       "    </tr>\n",
       "  </tbody>\n",
       "</table>\n",
       "</div>"
      ],
      "text/plain": [
       "  code                        name note productClassification  codeUnique  \\\n",
       "0   01             Animal products  NaN                   MT2  MT2 - 01 -   \n",
       "1   02              Dairy products  NaN                   MT2  MT2 - 02 -   \n",
       "2   03  Fruits, vegetables, plants  NaN                   MT2  MT2 - 03 -   \n",
       "3   04                 Coffee, tea  NaN                   MT2  MT2 - 04 -   \n",
       "4   05    Cereals and preparations  NaN                   MT2  MT2 - 05 -   \n",
       "\n",
       "  displayOrder hierarchy  \n",
       "0          NaN        01  \n",
       "1          NaN        02  \n",
       "2          NaN        03  \n",
       "3          NaN        04  \n",
       "4          NaN        05  "
      ]
     },
     "execution_count": 4,
     "metadata": {},
     "output_type": "execute_result"
    }
   ],
   "source": [
    "pd.read_csv('./data/ProductOrSectorCode_detail.csv',dtype=str).head()"
   ]
  },
  {
   "cell_type": "code",
   "execution_count": 23,
   "metadata": {},
   "outputs": [],
   "source": [
    "#动物，瓜果蔬菜农产品\n",
    "selectedProducts=['01','03']\n",
    "data_names=['data_2016.csv','data_2017.csv','data_2018.csv','data_2019.csv','data_2020.csv']"
   ]
  },
  {
   "cell_type": "code",
   "execution_count": 24,
   "metadata": {},
   "outputs": [],
   "source": [
    "annual_graph(selectedProducts,data_names)\n",
    "total_graph(selectedProducts,data_names)\n",
    "    "
   ]
  },
  {
   "cell_type": "code",
   "execution_count": null,
   "metadata": {},
   "outputs": [],
   "source": [
    "##"
   ]
  },
  {
   "cell_type": "code",
   "execution_count": null,
   "metadata": {},
   "outputs": [],
   "source": []
  }
 ],
 "metadata": {
  "interpreter": {
   "hash": "916dbcbb3f70747c44a77c7bcd40155683ae19c65e1c03b4aa3499c5328201f1"
  },
  "kernelspec": {
   "display_name": "Python 3.8.10 64-bit",
   "language": "python",
   "name": "python3"
  },
  "language_info": {
   "codemirror_mode": {
    "name": "ipython",
    "version": 3
   },
   "file_extension": ".py",
   "mimetype": "text/x-python",
   "name": "python",
   "nbconvert_exporter": "python",
   "pygments_lexer": "ipython3",
   "version": "3.8.10"
  },
  "orig_nbformat": 4
 },
 "nbformat": 4,
 "nbformat_minor": 2
}
