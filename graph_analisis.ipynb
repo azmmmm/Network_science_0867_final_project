{
 "cells": [
  {
   "cell_type": "code",
   "execution_count": 2,
   "metadata": {},
   "outputs": [],
   "source": [
    "import networkx as nx\n",
    "from utils import *\n",
    "import pandas as pd\n",
    "import numpy as np\n",
    "import os\n"
   ]
  },
  {
   "cell_type": "markdown",
   "metadata": {},
   "source": [
    "##数据概览"
   ]
  },
  {
   "cell_type": "code",
   "execution_count": 2,
   "metadata": {},
   "outputs": [
    {
     "name": "stdout",
     "output_type": "stream",
     "text": [
      "[\"['01', '03']_2016.gexf\", \"['01', '03']_2017.gexf\", \"['01', '03']_2018.gexf\", \"['01', '03']_2019.gexf\", \"['01', '03']_2020.gexf\", \"['01', '03']_total.gexf\"]\n"
     ]
    }
   ],
   "source": [
    "graph_path='./graph/'\n",
    "graphs=os.listdir(graph_path)\n",
    "graphs.remove('partition_graph')\n",
    "graphs.sort()\n",
    "print(graphs)"
   ]
  },
  {
   "cell_type": "code",
   "execution_count": 3,
   "metadata": {},
   "outputs": [
    {
     "name": "stdout",
     "output_type": "stream",
     "text": [
      "./graph/['01', '03']_2018.gexf\n"
     ]
    },
    {
     "data": {
      "text/plain": [
       "networkx.classes.digraph.DiGraph"
      ]
     },
     "execution_count": 3,
     "metadata": {},
     "output_type": "execute_result"
    }
   ],
   "source": [
    "path=graph_path+graphs[2]\n",
    "print(path)\n",
    "graph=nx.read_gexf(path)\n",
    "type(graph)"
   ]
  },
  {
   "cell_type": "code",
   "execution_count": 4,
   "metadata": {},
   "outputs": [
    {
     "data": {
      "text/plain": [
       "{'name': 'China',\n",
       " 'iso3A': 'CHN',\n",
       " 'latitude': 35.86166,\n",
       " 'longitude': 104.195397,\n",
       " 'totalExportValue': 2680456171669.0,\n",
       " 'selectedExportValue': 1871182156.0,\n",
       " 'totalImportValue': 807335965923.0,\n",
       " 'selectedImportValue': 45882762.0,\n",
       " 'label': '156'}"
      ]
     },
     "execution_count": 4,
     "metadata": {},
     "output_type": "execute_result"
    }
   ],
   "source": [
    "graph.nodes['156']"
   ]
  },
  {
   "cell_type": "code",
   "execution_count": 5,
   "metadata": {},
   "outputs": [
    {
     "data": {
      "text/plain": [
       "{'totalValue': 677350868554.0, 'selectedValue': 1984948757.0, 'id': '2961'}"
      ]
     },
     "execution_count": 5,
     "metadata": {},
     "output_type": "execute_result"
    }
   ],
   "source": [
    "graph.edges['156','840']"
   ]
  },
  {
   "cell_type": "code",
   "execution_count": 9,
   "metadata": {},
   "outputs": [
    {
     "data": {
      "text/plain": [
       "{'148': 0.0001546927472207617,\n",
       " '504': 0.0010680479239856993,\n",
       " '528': 0.0,\n",
       " '566': 0.0009228456471945318,\n",
       " '616': 0.0,\n",
       " '646': 0.0005894361855040741,\n",
       " '682': 0.0012482991611893436,\n",
       " '686': 0.0006443683264983834,\n",
       " '710': 0.0014180754235360487,\n",
       " '724': 0.0,\n",
       " '752': 0.0,\n",
       " '764': 0.0014946605331721545,\n",
       " '784': 0.0012808415155450784,\n",
       " '792': 0.0,\n",
       " '826': 0.0,\n",
       " '840': 0.0014946605331721545,\n",
       " '048': 0.0008105910279840421,\n",
       " '056': 0.0,\n",
       " '124': 0.0014946605331721545,\n",
       " '156': 0.0014946605331721545,\n",
       " '180': 0.0,\n",
       " '250': 0.0,\n",
       " '276': 0.0,\n",
       " '300': 0.0,\n",
       " '344': 0.0013516175780238918,\n",
       " '356': 0.0013984304278769697,\n",
       " '360': 0.001352079298516724,\n",
       " '380': 0.0,\n",
       " '392': 0.0014495278423241212,\n",
       " '404': 0.0,\n",
       " '410': 0.001369411897841707,\n",
       " '512': 0.0,\n",
       " '531': 0.0,\n",
       " '562': 0.000383149968147957,\n",
       " '586': 0.0012706514159688273,\n",
       " '702': 0.0014495278423241212,\n",
       " '756': 0.00137156862329483,\n",
       " '800': 0.0006312888305714585,\n",
       " '818': 0.0011013916670018426,\n",
       " '834': 0.0006662159090514732,\n",
       " '070': 0.0,\n",
       " '144': 0.001091420297355257,\n",
       " '364': 0.0,\n",
       " '376': 0.0010518011413354852,\n",
       " '414': 0.0,\n",
       " '430': 0.0,\n",
       " '442': 0.0,\n",
       " '458': 0.0012447139289990354,\n",
       " '634': 0.0005857333466930127,\n",
       " '728': 0.0,\n",
       " '892': 0.0,\n",
       " '804': 0.00121156306075983,\n",
       " '031': 0.0,\n",
       " '040': 0.0,\n",
       " '100': 0.0,\n",
       " '112': 0.0,\n",
       " '158': 0.0014946605331721545,\n",
       " '203': 0.0,\n",
       " '208': 0.0,\n",
       " '233': 0.0,\n",
       " '246': 0.0,\n",
       " '268': 0.0005231435559593428,\n",
       " '348': 0.0,\n",
       " '372': 0.0,\n",
       " '398': 0.00047629717919652707,\n",
       " '400': 0.0005673454720038007,\n",
       " '428': 0.0,\n",
       " '440': 0.0,\n",
       " '484': 0.0013635675109688156,\n",
       " '620': 0.0,\n",
       " '642': 0.0,\n",
       " '643': 0.0,\n",
       " '703': 0.0,\n",
       " '705': 0.0,\n",
       " '860': 0.0,\n",
       " '036': 0.0014427363508824108,\n",
       " '012': 0.0,\n",
       " '032': 0.0011795151387663434,\n",
       " '076': 0.0013795688736453838,\n",
       " '096': 0.0003926722467350791,\n",
       " '178': 0.0,\n",
       " '266': 0.00048590749542777497,\n",
       " '554': 0.001471521999096852,\n",
       " '578': 0.0012878165843080074,\n",
       " '598': 0.0,\n",
       " '608': 0.0011438827211200163,\n",
       " '690': 0.00039416216282028366,\n",
       " '704': 0.0,\n",
       " '108': 0.00021977542781077695,\n",
       " '558': 0.0007180849384728772,\n",
       " '748': 0.0003586849596383053,\n",
       " '120': 0.0,\n",
       " '384': 0.00080178765320683,\n",
       " '422': 0.0,\n",
       " '508': 0.000691457705413934,\n",
       " '768': 0.00035448750920431284,\n",
       " '788': 0.0006812371333608607,\n",
       " '084': 0.00027723526388528035,\n",
       " '591': 0.0001872204846847442,\n",
       " '222': 0.0006083319518832205,\n",
       " '320': 0.0,\n",
       " '417': 0.00018321878419093514,\n",
       " '807': 0.0,\n",
       " '659': 0.00019206198620943927,\n",
       " '028': 0.00024961662458514064,\n",
       " '052': 0.0,\n",
       " '780': 0.0,\n",
       " '170': 0.001269008578358577,\n",
       " '044': 0.0,\n",
       " '152': 0.0009460397314495863,\n",
       " '218': 0.0008386083705485165,\n",
       " '470': 0.0,\n",
       " '604': 0.000900598925975886,\n",
       " '662': 0.0,\n",
       " '858': 0.000684456209326861,\n",
       " '862': 0.0,\n",
       " '188': 0.0011873765879108805,\n",
       " '174': 9.07080582120919e-05,\n",
       " '214': 0.0009154639822622799,\n",
       " '270': 0.0,\n",
       " '340': 0.0005930460181585753,\n",
       " '388': 0.0,\n",
       " '918': 0.0,\n",
       " '008': 0.0006476679373042029,\n",
       " '020': 0.0,\n",
       " '024': 0.00045432160344813466,\n",
       " '068': 0.0005622546954775628,\n",
       " '104': 0.0007956194750010926,\n",
       " '116': 0.0,\n",
       " '132': 0.0003009270071523396,\n",
       " '140': 0.0,\n",
       " '192': 0.0006067943865237579,\n",
       " '204': 0.0003043746615498223,\n",
       " '226': 0.0,\n",
       " '231': 0.0,\n",
       " '262': 0.0,\n",
       " '288': 0.0010272219289670162,\n",
       " '324': 0.0,\n",
       " '332': 0.0,\n",
       " '352': 0.0,\n",
       " '368': 0.0,\n",
       " '434': 0.0,\n",
       " '450': 0.0006722645120530192,\n",
       " '462': 0.00036235101732809785,\n",
       " '466': 0.0007379289022924363,\n",
       " '478': 0.0001945746679338558,\n",
       " '480': 0.0009664674333864173,\n",
       " '496': 0.0003619814153953886,\n",
       " '498': 0.0005706000422565664,\n",
       " '626': 0.0,\n",
       " '678': 0.0,\n",
       " '694': 0.0,\n",
       " '736': 0.0,\n",
       " '740': 0.00032428136285844944,\n",
       " '760': 0.0,\n",
       " '854': 0.00028100720115053227,\n",
       " '893': 0.0003683097199268926,\n",
       " '894': 0.0,\n",
       " '328': 0.0002590585182540111,\n",
       " '516': 0.0010075107249652283,\n",
       " '072': 0.0003960149226673237,\n",
       " '196': 0.0,\n",
       " '716': 0.0005601893789794817,\n",
       " '191': 0.0,\n",
       " '004': 0.0,\n",
       " '308': 0.0,\n",
       " '426': 0.0,\n",
       " '454': 0.00038615797281130453,\n",
       " '418': 0.00025774739839873513,\n",
       " '887': 0.0,\n",
       " '050': 0.0,\n",
       " '051': 0.00026934179363139935,\n",
       " '446': 0.0002632997570353985,\n",
       " '212': 0.0,\n",
       " '600': 0.0005537879940448695,\n",
       " '090': 0.0,\n",
       " '670': 0.0,\n",
       " '548': 0.0,\n",
       " '064': 0.0,\n",
       " '242': 0.00030912774304402526,\n",
       " '524': 0.00028954388140257665,\n",
       " '762': 0.0,\n",
       " '882': 4.872398419641166e-05,\n",
       " '624': 0.0,\n",
       " '706': 0.0,\n",
       " '776': 0.0,\n",
       " '795': 0.0}"
      ]
     },
     "execution_count": 9,
     "metadata": {},
     "output_type": "execute_result"
    }
   ],
   "source": [
    "betweenness=nx.centrality.betweenness_centrality(graph)\n",
    "betweenness"
   ]
  },
  {
   "cell_type": "code",
   "execution_count": 12,
   "metadata": {},
   "outputs": [],
   "source": [
    "\n",
    "def bet_analisis(graph):\n",
    "    frames=[]\n",
    "    #聚类系数\n",
    "    clustering=[]\n",
    "    for key,value in nx.centrality.betweenness_centrality(graph).items():\n",
    "        clustering.append((key,value))\n",
    "    clustering.sort(key=lambda x:(x[1]),reverse=True)\n",
    "\n",
    "    top10=pd.DataFrame(clustering,columns=['name','cluster_coe'])[0:10]\n",
    "    for i in range(0,len(top10)):\n",
    "        code=top10.loc[i,'name']\n",
    "        _,name,_,_=country_code_to_info(code)\n",
    "        top10.loc[i,'name']=name\n",
    "    frames.append(top10)\n",
    "\n",
    "    return pd.concat(frames,axis=1)"
   ]
  },
  {
   "cell_type": "code",
   "execution_count": 11,
   "metadata": {},
   "outputs": [
    {
     "data": {
      "text/html": [
       "<div>\n",
       "<style scoped>\n",
       "    .dataframe tbody tr th:only-of-type {\n",
       "        vertical-align: middle;\n",
       "    }\n",
       "\n",
       "    .dataframe tbody tr th {\n",
       "        vertical-align: top;\n",
       "    }\n",
       "\n",
       "    .dataframe thead th {\n",
       "        text-align: right;\n",
       "    }\n",
       "</style>\n",
       "<table border=\"1\" class=\"dataframe\">\n",
       "  <thead>\n",
       "    <tr style=\"text-align: right;\">\n",
       "      <th></th>\n",
       "      <th>name</th>\n",
       "      <th>cluster_coe</th>\n",
       "    </tr>\n",
       "  </thead>\n",
       "  <tbody>\n",
       "    <tr>\n",
       "      <th>0</th>\n",
       "      <td>Thailand</td>\n",
       "      <td>0.001495</td>\n",
       "    </tr>\n",
       "    <tr>\n",
       "      <th>1</th>\n",
       "      <td>United States of America</td>\n",
       "      <td>0.001495</td>\n",
       "    </tr>\n",
       "    <tr>\n",
       "      <th>2</th>\n",
       "      <td>Canada</td>\n",
       "      <td>0.001495</td>\n",
       "    </tr>\n",
       "    <tr>\n",
       "      <th>3</th>\n",
       "      <td>China</td>\n",
       "      <td>0.001495</td>\n",
       "    </tr>\n",
       "    <tr>\n",
       "      <th>4</th>\n",
       "      <td>Chinese Taipei</td>\n",
       "      <td>0.001495</td>\n",
       "    </tr>\n",
       "    <tr>\n",
       "      <th>5</th>\n",
       "      <td>New Zealand</td>\n",
       "      <td>0.001472</td>\n",
       "    </tr>\n",
       "    <tr>\n",
       "      <th>6</th>\n",
       "      <td>Japan</td>\n",
       "      <td>0.001450</td>\n",
       "    </tr>\n",
       "    <tr>\n",
       "      <th>7</th>\n",
       "      <td>Singapore</td>\n",
       "      <td>0.001450</td>\n",
       "    </tr>\n",
       "    <tr>\n",
       "      <th>8</th>\n",
       "      <td>Australia</td>\n",
       "      <td>0.001443</td>\n",
       "    </tr>\n",
       "    <tr>\n",
       "      <th>9</th>\n",
       "      <td>South Africa</td>\n",
       "      <td>0.001418</td>\n",
       "    </tr>\n",
       "  </tbody>\n",
       "</table>\n",
       "</div>"
      ],
      "text/plain": [
       "                       name  cluster_coe\n",
       "0                  Thailand     0.001495\n",
       "1  United States of America     0.001495\n",
       "2                    Canada     0.001495\n",
       "3                     China     0.001495\n",
       "4            Chinese Taipei     0.001495\n",
       "5               New Zealand     0.001472\n",
       "6                     Japan     0.001450\n",
       "7                 Singapore     0.001450\n",
       "8                 Australia     0.001443\n",
       "9              South Africa     0.001418"
      ]
     },
     "execution_count": 11,
     "metadata": {},
     "output_type": "execute_result"
    }
   ],
   "source": [
    "bet_analisis(graph)"
   ]
  },
  {
   "cell_type": "markdown",
   "metadata": {},
   "source": [
    "###基本统计"
   ]
  },
  {
   "cell_type": "code",
   "execution_count": 11,
   "metadata": {},
   "outputs": [
    {
     "data": {
      "text/html": [
       "<div>\n",
       "<style scoped>\n",
       "    .dataframe tbody tr th:only-of-type {\n",
       "        vertical-align: middle;\n",
       "    }\n",
       "\n",
       "    .dataframe tbody tr th {\n",
       "        vertical-align: top;\n",
       "    }\n",
       "\n",
       "    .dataframe thead th {\n",
       "        text-align: right;\n",
       "    }\n",
       "</style>\n",
       "<table border=\"1\" class=\"dataframe\">\n",
       "  <thead>\n",
       "    <tr style=\"text-align: right;\">\n",
       "      <th></th>\n",
       "      <th>name</th>\n",
       "      <th>density</th>\n",
       "      <th>clustering</th>\n",
       "      <th>avg_out_d</th>\n",
       "      <th>avg_in_d</th>\n",
       "      <th>avg_path_len</th>\n",
       "      <th>avg_totalTradeValue</th>\n",
       "    </tr>\n",
       "  </thead>\n",
       "  <tbody>\n",
       "    <tr>\n",
       "      <th>0</th>\n",
       "      <td>['01', '03']_2016.gexf</td>\n",
       "      <td>0.361423</td>\n",
       "      <td>0.728259</td>\n",
       "      <td>67.224599</td>\n",
       "      <td>67.224599</td>\n",
       "      <td>1.426542</td>\n",
       "      <td>3.610529e+10</td>\n",
       "    </tr>\n",
       "    <tr>\n",
       "      <th>1</th>\n",
       "      <td>['01', '03']_2017.gexf</td>\n",
       "      <td>0.319447</td>\n",
       "      <td>0.746114</td>\n",
       "      <td>59.417112</td>\n",
       "      <td>59.417112</td>\n",
       "      <td>1.478926</td>\n",
       "      <td>4.404946e+10</td>\n",
       "    </tr>\n",
       "    <tr>\n",
       "      <th>2</th>\n",
       "      <td>['01', '03']_2018.gexf</td>\n",
       "      <td>0.285780</td>\n",
       "      <td>0.759374</td>\n",
       "      <td>53.155080</td>\n",
       "      <td>53.155080</td>\n",
       "      <td>1.523202</td>\n",
       "      <td>6.136963e+10</td>\n",
       "    </tr>\n",
       "    <tr>\n",
       "      <th>3</th>\n",
       "      <td>['01', '03']_2019.gexf</td>\n",
       "      <td>0.239118</td>\n",
       "      <td>0.745122</td>\n",
       "      <td>44.475936</td>\n",
       "      <td>44.475936</td>\n",
       "      <td>1.588293</td>\n",
       "      <td>3.052175e+10</td>\n",
       "    </tr>\n",
       "    <tr>\n",
       "      <th>4</th>\n",
       "      <td>['01', '03']_2020.gexf</td>\n",
       "      <td>0.038041</td>\n",
       "      <td>0.870934</td>\n",
       "      <td>7.037634</td>\n",
       "      <td>7.037634</td>\n",
       "      <td>1.926184</td>\n",
       "      <td>5.141182e+09</td>\n",
       "    </tr>\n",
       "    <tr>\n",
       "      <th>5</th>\n",
       "      <td>['01', '03']_total.gexf</td>\n",
       "      <td>0.442959</td>\n",
       "      <td>0.760349</td>\n",
       "      <td>82.390374</td>\n",
       "      <td>82.390374</td>\n",
       "      <td>1.325456</td>\n",
       "      <td>4.004939e+10</td>\n",
       "    </tr>\n",
       "  </tbody>\n",
       "</table>\n",
       "</div>"
      ],
      "text/plain": [
       "                      name   density  clustering  avg_out_d   avg_in_d  \\\n",
       "0   ['01', '03']_2016.gexf  0.361423    0.728259  67.224599  67.224599   \n",
       "1   ['01', '03']_2017.gexf  0.319447    0.746114  59.417112  59.417112   \n",
       "2   ['01', '03']_2018.gexf  0.285780    0.759374  53.155080  53.155080   \n",
       "3   ['01', '03']_2019.gexf  0.239118    0.745122  44.475936  44.475936   \n",
       "4   ['01', '03']_2020.gexf  0.038041    0.870934   7.037634   7.037634   \n",
       "5  ['01', '03']_total.gexf  0.442959    0.760349  82.390374  82.390374   \n",
       "\n",
       "   avg_path_len  avg_totalTradeValue  \n",
       "0      1.426542         3.610529e+10  \n",
       "1      1.478926         4.404946e+10  \n",
       "2      1.523202         6.136963e+10  \n",
       "3      1.588293         3.052175e+10  \n",
       "4      1.926184         5.141182e+09  \n",
       "5      1.325456         4.004939e+10  "
      ]
     },
     "execution_count": 11,
     "metadata": {},
     "output_type": "execute_result"
    }
   ],
   "source": [
    "data=[]\n",
    "for g in graphs:\n",
    "    path=graph_path+g\n",
    "    graph=nx.read_gexf(path)\n",
    "\n",
    "    #网络密度\n",
    "    density=nx.density(graph)\n",
    "    #print(\"density=\",density)\n",
    "\n",
    "\n",
    "    #聚类系数\n",
    "    clustering=nx.algorithms.average_clustering(graph)\n",
    "    #print(f'clustering= {clustering}')\n",
    "\n",
    "    #平均度\n",
    "    avg_out_degree=sum([graph.out_degree(i) for i in graph])/graph.number_of_nodes()\n",
    "    #print(f'avg_in_degree= {avg_out_degree}')\n",
    "\n",
    "    avg_in_degree=sum([graph.in_degree(i) for i in graph])/graph.number_of_nodes()\n",
    "    #print(f'avg_in_degree= {avg_in_degree}')\n",
    "    \n",
    "    #平均路径\n",
    "    undirected=graph.to_undirected()\n",
    "    avg_path_len=nx.average_shortest_path_length(undirected)\n",
    "\n",
    "    #平均贸易额\n",
    "    avg_totalExportValue=avg_node_weight(graph,'totalExportValue')\n",
    "\n",
    "    record={\n",
    "    'name':g,\n",
    "    'density':density,'clustering':clustering,\n",
    "    'avg_out_d':avg_out_degree,'avg_in_d':avg_in_degree,\n",
    "    'avg_path_len':avg_path_len,\n",
    "    'avg_totalTradeValue':avg_totalExportValue\n",
    "    }\n",
    "    data.append(record)\n",
    "df=getDF(data)\n",
    "df.to_csv('./analisis/yearly_avg.csv')\n",
    "df"
   ]
  },
  {
   "cell_type": "code",
   "execution_count": 16,
   "metadata": {},
   "outputs": [
    {
     "data": {
      "text/html": [
       "<div>\n",
       "<style scoped>\n",
       "    .dataframe tbody tr th:only-of-type {\n",
       "        vertical-align: middle;\n",
       "    }\n",
       "\n",
       "    .dataframe tbody tr th {\n",
       "        vertical-align: top;\n",
       "    }\n",
       "\n",
       "    .dataframe thead th {\n",
       "        text-align: right;\n",
       "    }\n",
       "</style>\n",
       "<table border=\"1\" class=\"dataframe\">\n",
       "  <thead>\n",
       "    <tr style=\"text-align: right;\">\n",
       "      <th></th>\n",
       "      <th>avg_path_len</th>\n",
       "      <th>avg_path_in_len</th>\n",
       "      <th>avg_path_out_len</th>\n",
       "    </tr>\n",
       "  </thead>\n",
       "  <tbody>\n",
       "    <tr>\n",
       "      <th>0</th>\n",
       "      <td>1.426542</td>\n",
       "      <td>1.426542</td>\n",
       "      <td>1.426542</td>\n",
       "    </tr>\n",
       "    <tr>\n",
       "      <th>1</th>\n",
       "      <td>1.478926</td>\n",
       "      <td>1.478926</td>\n",
       "      <td>1.478926</td>\n",
       "    </tr>\n",
       "    <tr>\n",
       "      <th>2</th>\n",
       "      <td>1.523202</td>\n",
       "      <td>1.523202</td>\n",
       "      <td>1.523202</td>\n",
       "    </tr>\n",
       "    <tr>\n",
       "      <th>3</th>\n",
       "      <td>1.588293</td>\n",
       "      <td>1.588293</td>\n",
       "      <td>1.588293</td>\n",
       "    </tr>\n",
       "    <tr>\n",
       "      <th>4</th>\n",
       "      <td>1.926184</td>\n",
       "      <td>1.926184</td>\n",
       "      <td>1.926184</td>\n",
       "    </tr>\n",
       "    <tr>\n",
       "      <th>5</th>\n",
       "      <td>1.325456</td>\n",
       "      <td>1.325456</td>\n",
       "      <td>1.325456</td>\n",
       "    </tr>\n",
       "  </tbody>\n",
       "</table>\n",
       "</div>"
      ],
      "text/plain": [
       "   avg_path_len  avg_path_in_len  avg_path_out_len\n",
       "0      1.426542         1.426542          1.426542\n",
       "1      1.478926         1.478926          1.478926\n",
       "2      1.523202         1.523202          1.523202\n",
       "3      1.588293         1.588293          1.588293\n",
       "4      1.926184         1.926184          1.926184\n",
       "5      1.325456         1.325456          1.325456"
      ]
     },
     "execution_count": 16,
     "metadata": {},
     "output_type": "execute_result"
    }
   ],
   "source": [
    "data=[]\n",
    "for g in graphs:\n",
    "    path=graph_path+g\n",
    "    graph=nx.read_gexf(path)\n",
    "\n",
    "    #平均路径\n",
    "    undirected=graph.to_undirected()\n",
    "    avg_path_len=nx.average_shortest_path_length(undirected)\n",
    "    avg_path_in_len=nx.average_shortest_path_length(undirected,weight='totalImportValue')\n",
    "    avg_path_out_len=nx.average_shortest_path_length(undirected,weight='totalExportValue')\n",
    "    record={\n",
    "    'avg_path_len':avg_path_len,\n",
    "    'avg_path_in_len':avg_path_in_len,\n",
    "    'avg_path_out_len':avg_path_out_len,\n",
    "    }\n",
    "    data.append(record)\n",
    "df=getDF(data)\n",
    "df"
   ]
  },
  {
   "cell_type": "code",
   "execution_count": 27,
   "metadata": {},
   "outputs": [],
   "source": [
    "df.to_csv('./yearly_avg.csv')"
   ]
  },
  {
   "cell_type": "markdown",
   "metadata": {},
   "source": [
    "##社团分析"
   ]
  },
  {
   "cell_type": "code",
   "execution_count": 6,
   "metadata": {},
   "outputs": [],
   "source": [
    "from networkx.algorithms.community import greedy_modularity_communities\n",
    "from utils import add_partition_tag\n",
    "#partitions\n",
    "year_partitions={}\n",
    "for g in graphs:\n",
    "    path=graph_path+g\n",
    "    graph=nx.read_gexf(path)\n",
    "    tag=g[:-5][13:]#2019 或 total\n",
    "    weights=['totalValue','selectedValue']\n",
    "    for weight in weights:\n",
    "        partition=greedy_modularity_communities(graph,weight=weight)\n",
    "        add_partition_tag(graph,partition,f'{weight}_best')\n",
    "        year_partitions[f'{tag}_{weight}_best']=partition\n",
    "\n",
    "        n_communities=10\n",
    "        partition=greedy_modularity_communities(graph,weight=weight,n_communities=n_communities)\n",
    "        add_partition_tag(graph,partition,f'{weight}_{n_communities}')\n",
    "        year_partitions[f'{tag}_{weight}_{n_communities}']=partition\n",
    "    nx.write_gexf(graph,f'{graph_path}partition_graph/{g}')"
   ]
  },
  {
   "cell_type": "code",
   "execution_count": 8,
   "metadata": {},
   "outputs": [
    {
     "data": {
      "text/plain": [
       "['250', '196', '148', '690', '064']"
      ]
     },
     "execution_count": 8,
     "metadata": {},
     "output_type": "execute_result"
    }
   ],
   "source": [
    "list(year_partitions['2016_totalValue_best'][0])[0:5]"
   ]
  },
  {
   "cell_type": "markdown",
   "metadata": {},
   "source": [
    "##单年top分析"
   ]
  },
  {
   "cell_type": "code",
   "execution_count": 29,
   "metadata": {},
   "outputs": [],
   "source": [
    "#top统计\n",
    "for g in graphs:\n",
    "    path=graph_path+g\n",
    "    graph=nx.read_gexf(path)\n",
    "    tag=g[:-5][13:]#2019 或 total\n",
    "    \n",
    "    df=top10_analisis(graph)\n",
    "    df.to_csv(f'./analisis/top/{tag}_top10.csv')\n"
   ]
  },
  {
   "cell_type": "code",
   "execution_count": 13,
   "metadata": {},
   "outputs": [],
   "source": [
    "#top统计\n",
    "for g in graphs:\n",
    "    path=graph_path+g\n",
    "    graph=nx.read_gexf(path)\n",
    "    tag=g[:-5][13:]#2019 或 total\n",
    "    \n",
    "    df=bet_analisis(graph)\n",
    "    df.to_csv(f'./analisis/{tag}_bet.csv')\n"
   ]
  },
  {
   "cell_type": "code",
   "execution_count": null,
   "metadata": {},
   "outputs": [
    {
     "data": {
      "text/plain": [
       "{'totalValue': 539119.0, 'selectedValue': 273.0, 'id': '0'}"
      ]
     },
     "execution_count": 6,
     "metadata": {},
     "output_type": "execute_result"
    }
   ],
   "source": [
    "graph.edges['192','222']"
   ]
  },
  {
   "cell_type": "code",
   "execution_count": null,
   "metadata": {},
   "outputs": [
    {
     "data": {
      "text/plain": [
       "{'totalValue': 33810218.0, 'selectedValue': 13737.0, 'id': '2560'}"
      ]
     },
     "execution_count": 7,
     "metadata": {},
     "output_type": "execute_result"
    }
   ],
   "source": [
    "graph.edges['222','192']"
   ]
  },
  {
   "cell_type": "markdown",
   "metadata": {},
   "source": [
    "#度分布"
   ]
  },
  {
   "cell_type": "code",
   "execution_count": 5,
   "metadata": {},
   "outputs": [
    {
     "ename": "AttributeError",
     "evalue": "'DiGraph' object has no attribute 'degrees'",
     "output_type": "error",
     "traceback": [
      "\u001b[0;31m---------------------------------------------------------------------------\u001b[0m",
      "\u001b[0;31mAttributeError\u001b[0m                            Traceback (most recent call last)",
      "\u001b[0;32m/tmp/ipykernel_5349/1450549953.py\u001b[0m in \u001b[0;36m<module>\u001b[0;34m\u001b[0m\n\u001b[0;32m----> 1\u001b[0;31m \u001b[0mgraph\u001b[0m\u001b[0;34m.\u001b[0m\u001b[0mdegrees\u001b[0m\u001b[0;34m\u001b[0m\u001b[0;34m\u001b[0m\u001b[0m\n\u001b[0m",
      "\u001b[0;31mAttributeError\u001b[0m: 'DiGraph' object has no attribute 'degrees'"
     ]
    }
   ],
   "source": [
    "graph.degrees"
   ]
  },
  {
   "cell_type": "code",
   "execution_count": 14,
   "metadata": {},
   "outputs": [],
   "source": [
    "for g in graphs:\n",
    "    degree_distribution_dict={}\n",
    "    path=graph_path+g\n",
    "    graph=nx.read_gexf(path)\n",
    "    for i in graph:\n",
    "        i_degree=graph.in_degree(i)\n",
    "        if(degree_distribution_dict.get(i_degree)):\n",
    "            degree_distribution_dict[i_degree]+=1\n",
    "        else:\n",
    "            degree_distribution_dict[i_degree]=1\n",
    "            \n",
    "    tag=g[:-5][13:]#2019 或 total\n",
    "    df=pd.DataFrame.from_dict(degree_distribution_dict, orient='index')\n",
    "    df.to_csv(f'./analisis/deg/{tag}_in_deg.csv',header=False)"
   ]
  },
  {
   "cell_type": "code",
   "execution_count": 15,
   "metadata": {},
   "outputs": [],
   "source": [
    "for g in graphs:\n",
    "    degree_distribution_dict={}\n",
    "    path=graph_path+g\n",
    "    graph=nx.read_gexf(path)\n",
    "    for i in graph:\n",
    "        i_degree=graph.out_degree(i)\n",
    "        if(degree_distribution_dict.get(i_degree)):\n",
    "            degree_distribution_dict[i_degree]+=1\n",
    "        else:\n",
    "            degree_distribution_dict[i_degree]=1\n",
    "            \n",
    "    tag=g[:-5][13:]#2019 或 total\n",
    "    df=pd.DataFrame.from_dict(degree_distribution_dict, orient='index')\n",
    "    df.to_csv(f'./analisis/deg/{tag}_out_deg.csv',header=False)"
   ]
  },
  {
   "cell_type": "code",
   "execution_count": 4,
   "metadata": {},
   "outputs": [
    {
     "data": {
      "image/png": "[encoded data removed]",
      "text/plain": [
       "<Figure size 432x288 with 1 Axes>"
      ]
     },
     "metadata": {
      "needs_background": "light"
     },
     "output_type": "display_data"
    },
    {
     "data": {
      "image/png": "[encoded data removed]",
      "text/plain": [
       "<Figure size 432x288 with 1 Axes>"
      ]
     },
     "metadata": {
      "needs_background": "light"
     },
     "output_type": "display_data"
    },
    {
     "data": {
      "image/png": "[encoded data removed]",
      "text/plain": [
       "<Figure size 432x288 with 1 Axes>"
      ]
     },
     "metadata": {
      "needs_background": "light"
     },
     "output_type": "display_data"
    },
    {
     "data": {
      "image/png": "[encoded data removed]",
      "text/plain": [
       "<Figure size 432x288 with 1 Axes>"
      ]
     },
     "metadata": {
      "needs_background": "light"
     },
     "output_type": "display_data"
    },
    {
     "data": {
      "image/png": "[encoded data removed]",
      "text/plain": [
       "<Figure size 432x288 with 1 Axes>"
      ]
     },
     "metadata": {
      "needs_background": "light"
     },
     "output_type": "display_data"
    },
    {
     "data": {
      "image/png": "[encoded data removed]",
      "text/plain": [
       "<Figure size 432x288 with 1 Axes>"
      ]
     },
     "metadata": {
      "needs_background": "light"
     },
     "output_type": "display_data"
    }
   ],
   "source": [
    "for g in graphs:\n",
    "    path=graph_path+g\n",
    "    graph=nx.read_gexf(path)\n",
    "    degree_distribution(graph,g[:-5][13:],degree='in')\n"
   ]
  },
  {
   "cell_type": "code",
   "execution_count": 17,
   "metadata": {},
   "outputs": [
    {
     "name": "stdout",
     "output_type": "stream",
     "text": [
      "['01', '03']_2016.gexf\n",
      "-0.19235614437762338\n"
     ]
    },
    {
     "data": {
      "image/png": "[encoded data removed]",
      "text/plain": [
       "<Figure size 432x288 with 2 Axes>"
      ]
     },
     "metadata": {
      "needs_background": "light"
     },
     "output_type": "display_data"
    },
    {
     "data": {
      "image/png": "[encoded data removed]",
      "text/plain": [
       "<Figure size 432x288 with 1 Axes>"
      ]
     },
     "metadata": {
      "needs_background": "light"
     },
     "output_type": "display_data"
    },
    {
     "name": "stdout",
     "output_type": "stream",
     "text": [
      "['01', '03']_2017.gexf\n",
      "-0.1931999986903851\n"
     ]
    },
    {
     "data": {
      "image/png": "[encoded data removed]",
      "text/plain": [
       "<Figure size 432x288 with 2 Axes>"
      ]
     },
     "metadata": {
      "needs_background": "light"
     },
     "output_type": "display_data"
    },
    {
     "data": {
      "image/png": "[encoded data removed]",
      "text/plain": [
       "<Figure size 432x288 with 1 Axes>"
      ]
     },
     "metadata": {
      "needs_background": "light"
     },
     "output_type": "display_data"
    },
    {
     "name": "stdout",
     "output_type": "stream",
     "text": [
      "['01', '03']_2018.gexf\n",
      "-0.19416083886544033\n"
     ]
    },
    {
     "data": {
      "image/png": "[encoded data removed]",
      "text/plain": [
       "<Figure size 432x288 with 2 Axes>"
      ]
     },
     "metadata": {
      "needs_background": "light"
     },
     "output_type": "display_data"
    },
    {
     "data": {
      "image/png": "[encoded data removed]",
      "text/plain": [
       "<Figure size 432x288 with 1 Axes>"
      ]
     },
     "metadata": {
      "needs_background": "light"
     },
     "output_type": "display_data"
    },
    {
     "name": "stdout",
     "output_type": "stream",
     "text": [
      "['01', '03']_2019.gexf\n",
      "-0.1908549822901968\n"
     ]
    },
    {
     "data": {
      "image/png": "[encoded data removed]",
      "text/plain": [
       "<Figure size 432x288 with 2 Axes>"
      ]
     },
     "metadata": {
      "needs_background": "light"
     },
     "output_type": "display_data"
    },
    {
     "data": {
      "image/png": "[encoded data removed]",
      "text/plain": [
       "<Figure size 432x288 with 1 Axes>"
      ]
     },
     "metadata": {
      "needs_background": "light"
     },
     "output_type": "display_data"
    },
    {
     "name": "stdout",
     "output_type": "stream",
     "text": [
      "['01', '03']_2020.gexf\n",
      "-0.22779175851021854\n"
     ]
    },
    {
     "data": {
      "image/png": "[encoded data removed]",
      "text/plain": [
       "<Figure size 432x288 with 2 Axes>"
      ]
     },
     "metadata": {
      "needs_background": "light"
     },
     "output_type": "display_data"
    },
    {
     "data": {
      "image/png": "[encoded data removed]",
      "text/plain": [
       "<Figure size 432x288 with 1 Axes>"
      ]
     },
     "metadata": {
      "needs_background": "light"
     },
     "output_type": "display_data"
    },
    {
     "name": "stdout",
     "output_type": "stream",
     "text": [
      "['01', '03']_total.gexf\n",
      "-0.15229998865884012\n"
     ]
    },
    {
     "data": {
      "image/png": "[encoded data removed]",
      "text/plain": [
       "<Figure size 432x288 with 2 Axes>"
      ]
     },
     "metadata": {
      "needs_background": "light"
     },
     "output_type": "display_data"
    },
    {
     "data": {
      "image/png": "[encoded data removed]",
      "text/plain": [
       "<Figure size 432x288 with 1 Axes>"
      ]
     },
     "metadata": {
      "needs_background": "light"
     },
     "output_type": "display_data"
    }
   ],
   "source": [
    "from lib.degrees_correlation import degrees_correlation_analise\n",
    "for g in graphs:\n",
    "    path=graph_path+g\n",
    "    graph=nx.read_gexf(path)\n",
    "    print(g)\n",
    "    degrees_correlation_analise(graph,'out','in')"
   ]
  },
  {
   "cell_type": "code",
   "execution_count": 9,
   "metadata": {},
   "outputs": [
    {
     "name": "stdout",
     "output_type": "stream",
     "text": [
      "-0.15229998865884012\n"
     ]
    },
    {
     "data": {
      "image/png": "[encoded data removed]",
      "text/plain": [
       "<Figure size 432x288 with 2 Axes>"
      ]
     },
     "metadata": {
      "needs_background": "light"
     },
     "output_type": "display_data"
    },
    {
     "data": {
      "image/png": "[encoded data removed]",
      "text/plain": [
       "<Figure size 432x288 with 1 Axes>"
      ]
     },
     "metadata": {
      "needs_background": "light"
     },
     "output_type": "display_data"
    }
   ],
   "source": [
    "degrees_correlation_analise(graph,'out','in')"
   ]
  },
  {
   "cell_type": "code",
   "execution_count": 62,
   "metadata": {},
   "outputs": [
    {
     "name": "stdout",
     "output_type": "stream",
     "text": [
      "2016 0.8242728910513474\n",
      "2017 0.8334658441707964\n",
      "2018 0.8592468939241489\n",
      "2019 0.80539411082097\n",
      "2020 0.877203436852371\n"
     ]
    }
   ],
   "source": [
    "##我们选取出口额前5的商品品类，占总出口额比重这一指标对数据进行分析。\n",
    "data_names=['data_2016.csv','data_2017.csv','data_2018.csv','data_2019.csv','data_2020.csv']\n",
    "def initial_Product_Value_dict():\n",
    "    d=dict()\n",
    "    d['iso3A']=''\n",
    "    d['name']=''\n",
    "    for code in pd.read_csv('./data/ProductOrSectorCode_detail.csv',dtype=str)['code']:\n",
    "        d[code]=0\n",
    "    return d\n",
    "\n",
    "product_codes=pd.read_csv('./data/ProductOrSectorCode_detail.csv',dtype=str)['code'].to_list()\n",
    "for data_name in data_names:\n",
    "        data=pd.read_csv(f'./data/{data_name}',dtype=str)\n",
    "        data.drop(['IndicatorCategoryCode','IndicatorCode','ProductOrSectorClassificationCode','PeriodCode','FrequencyCode','UnitCode','ValueFlagCode'],inplace=True,axis=1)\n",
    "        data_dict={}\n",
    "        for i in range(0,len(data)):\n",
    "                exporter=data['PartnerEconomyCode'][i]\n",
    "                ex_iso3A,ex_name,_,_=country_code_to_info(exporter)\n",
    "                if data_dict.get(exporter)==None:\n",
    "                        data_dict[exporter]=initial_Product_Value_dict()\n",
    "                        data_dict[exporter]['iso3A']=ex_iso3A\n",
    "                        data_dict[exporter]['name']=ex_name\n",
    "                ProductCode=data['ProductOrSectorCode'][i]\n",
    "                value=float(data['Value'][i])\n",
    "                #print(exporter,ProductCode,value)\n",
    "                data_dict[exporter][ProductCode]+=value\n",
    "        #各国对应商品出口额\n",
    "        df=pd.DataFrame.from_dict(data_dict, orient='index')\n",
    "        percentages=[]\n",
    "        for i in range(0,len(df)):\n",
    "                record=df.iloc[i]\n",
    "                values=[]\n",
    "                for code in product_codes:\n",
    "                        values.append(record[code])\n",
    "                #values从大到小排序\n",
    "                values.sort(reverse=True)\n",
    "                #前五商品占总出口额百分比\n",
    "                top_5_percentage=sum(values[0:4])/sum(values)\n",
    "                percentages.append(top_5_percentage)\n",
    "        #返回平均数\n",
    "        avg_percentages=sum(percentages)/len(percentages)\n",
    "        tag=data_name[5:-4]\n",
    "        print(tag,avg_percentages)"
   ]
  },
  {
   "cell_type": "code",
   "execution_count": null,
   "metadata": {},
   "outputs": [],
   "source": []
  }
 ],
 "metadata": {
  "interpreter": {
   "hash": "916dbcbb3f70747c44a77c7bcd40155683ae19c65e1c03b4aa3499c5328201f1"
  },
  "kernelspec": {
   "display_name": "Python 3.8.10 64-bit",
   "language": "python",
   "name": "python3"
  },
  "language_info": {
   "codemirror_mode": {
    "name": "ipython",
    "version": 3
   },
   "file_extension": ".py",
   "mimetype": "text/x-python",
   "name": "python",
   "nbconvert_exporter": "python",
   "pygments_lexer": "ipython3",
   "version": "3.8.10"
  },
  "orig_nbformat": 4
 },
 "nbformat": 4,
 "nbformat_minor": 2
}
