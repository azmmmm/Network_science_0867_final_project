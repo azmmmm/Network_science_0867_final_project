{
 "cells": [
  {
   "cell_type": "code",
   "execution_count": 2,
   "metadata": {},
   "outputs": [],
   "source": [
    "import http.client, urllib.request, urllib.parse, urllib.error, base64\n",
    "from utils import *"
   ]
  },
  {
   "cell_type": "code",
   "execution_count": 3,
   "metadata": {},
   "outputs": [],
   "source": [
    "headers = {\n",
    "    # Request headers\n",
    "    'Ocp-Apim-Subscription-Key': '5625f73035eb4558b9e6bcddea45edda',\n",
    "}"
   ]
  },
  {
   "cell_type": "markdown",
   "metadata": {},
   "source": [
    "########### get reporting_economy #############\n"
   ]
  },
  {
   "cell_type": "code",
   "execution_count": 3,
   "metadata": {},
   "outputs": [
    {
     "name": "stdout",
     "output_type": "stream",
     "text": [
      "b'[{\"code\":\"004\",\"iso3A\":\"AFG\",\"name\":\"Afghanistan\",\"displayOrder\":10},{\"code\":\"008\",\"iso3A\":\"ALB\",\"na'\n"
     ]
    }
   ],
   "source": [
    "params = urllib.parse.urlencode({\n",
    "    # Request parameters\n",
    "    'ig': 'individual',\n",
    "    'reg': 'all',\n",
    "    'gp': 'all',\n",
    "    'lang': '1',\n",
    "})\n",
    "\n",
    "try:\n",
    "    conn = http.client.HTTPSConnection('api.wto.org')\n",
    "    conn.request(\"GET\", \"/timeseries/v1/reporters?%s\" % params, \"{body}\", headers)\n",
    "    response = conn.getresponse()\n",
    "    data = response.read()\n",
    "    print(data[0:100])\n",
    "    json_data=data.decode('utf8')\n",
    "    data=json.loads(json_data)\n",
    "    \n",
    "    conn.close()\n",
    "except Exception as e:\n",
    "    print(\"[Errno {0}] {1}\".format(e.errno, e.strerror))\n",
    "\n"
   ]
  },
  {
   "cell_type": "code",
   "execution_count": 9,
   "metadata": {},
   "outputs": [
    {
     "data": {
      "text/plain": [
       "str"
      ]
     },
     "execution_count": 9,
     "metadata": {},
     "output_type": "execute_result"
    }
   ],
   "source": [
    "type(data[0]['code'])"
   ]
  },
  {
   "cell_type": "code",
   "execution_count": 3,
   "metadata": {},
   "outputs": [
    {
     "ename": "NameError",
     "evalue": "name 'data' is not defined",
     "output_type": "error",
     "traceback": [
      "\u001b[0;31m---------------------------------------------------------------------------\u001b[0m",
      "\u001b[0;31mNameError\u001b[0m                                 Traceback (most recent call last)",
      "\u001b[0;32m/tmp/ipykernel_1485/3595424601.py\u001b[0m in \u001b[0;36m<module>\u001b[0;34m\u001b[0m\n\u001b[0;32m----> 1\u001b[0;31m \u001b[0mcountries_code\u001b[0m\u001b[0;34m=\u001b[0m\u001b[0mgetDF\u001b[0m\u001b[0;34m(\u001b[0m\u001b[0mdata\u001b[0m\u001b[0;34m,\u001b[0m\u001b[0mdtype\u001b[0m\u001b[0;34m=\u001b[0m\u001b[0mstr\u001b[0m\u001b[0;34m)\u001b[0m\u001b[0;34m\u001b[0m\u001b[0;34m\u001b[0m\u001b[0m\n\u001b[0m\u001b[1;32m      2\u001b[0m \u001b[0mcountries_code\u001b[0m\u001b[0;34m.\u001b[0m\u001b[0mto_csv\u001b[0m\u001b[0;34m(\u001b[0m\u001b[0;34m'./data/countries_code.csv'\u001b[0m\u001b[0;34m,\u001b[0m\u001b[0mindex\u001b[0m\u001b[0;34m=\u001b[0m\u001b[0;32mFalse\u001b[0m\u001b[0;34m)\u001b[0m\u001b[0;34m\u001b[0m\u001b[0;34m\u001b[0m\u001b[0m\n",
      "\u001b[0;31mNameError\u001b[0m: name 'data' is not defined"
     ]
    }
   ],
   "source": [
    "countries_code=getDF(data,dtype=str)\n",
    "countries_code.to_csv('./data/countries_code.csv',index=False)"
   ]
  },
  {
   "cell_type": "markdown",
   "metadata": {},
   "source": [
    "### 获取 双边贸易数据###"
   ]
  },
  {
   "cell_type": "code",
   "execution_count": 4,
   "metadata": {},
   "outputs": [
    {
     "data": {
      "text/html": [
       "<div>\n",
       "<style scoped>\n",
       "    .dataframe tbody tr th:only-of-type {\n",
       "        vertical-align: middle;\n",
       "    }\n",
       "\n",
       "    .dataframe tbody tr th {\n",
       "        vertical-align: top;\n",
       "    }\n",
       "\n",
       "    .dataframe thead th {\n",
       "        text-align: right;\n",
       "    }\n",
       "</style>\n",
       "<table border=\"1\" class=\"dataframe\">\n",
       "  <thead>\n",
       "    <tr style=\"text-align: right;\">\n",
       "      <th></th>\n",
       "      <th>code</th>\n",
       "      <th>iso3A</th>\n",
       "      <th>name</th>\n",
       "      <th>displayOrder</th>\n",
       "    </tr>\n",
       "  </thead>\n",
       "  <tbody>\n",
       "    <tr>\n",
       "      <th>0</th>\n",
       "      <td>004</td>\n",
       "      <td>AFG</td>\n",
       "      <td>Afghanistan</td>\n",
       "      <td>10</td>\n",
       "    </tr>\n",
       "    <tr>\n",
       "      <th>1</th>\n",
       "      <td>008</td>\n",
       "      <td>ALB</td>\n",
       "      <td>Albania</td>\n",
       "      <td>40</td>\n",
       "    </tr>\n",
       "    <tr>\n",
       "      <th>2</th>\n",
       "      <td>012</td>\n",
       "      <td>DZA</td>\n",
       "      <td>Algeria</td>\n",
       "      <td>50</td>\n",
       "    </tr>\n",
       "    <tr>\n",
       "      <th>3</th>\n",
       "      <td>016</td>\n",
       "      <td>ASM</td>\n",
       "      <td>American Samoa</td>\n",
       "      <td>70</td>\n",
       "    </tr>\n",
       "    <tr>\n",
       "      <th>4</th>\n",
       "      <td>020</td>\n",
       "      <td>AND</td>\n",
       "      <td>Andorra</td>\n",
       "      <td>90</td>\n",
       "    </tr>\n",
       "  </tbody>\n",
       "</table>\n",
       "</div>"
      ],
      "text/plain": [
       "  code iso3A            name displayOrder\n",
       "0  004   AFG     Afghanistan           10\n",
       "1  008   ALB         Albania           40\n",
       "2  012   DZA         Algeria           50\n",
       "3  016   ASM  American Samoa           70\n",
       "4  020   AND         Andorra           90"
      ]
     },
     "execution_count": 4,
     "metadata": {},
     "output_type": "execute_result"
    }
   ],
   "source": [
    "countries_code=pd.read_csv('./data/countries_code.csv',dtype=str)\n",
    "countries_code.head()"
   ]
  },
  {
   "cell_type": "code",
   "execution_count": 5,
   "metadata": {},
   "outputs": [],
   "source": [
    "reporting_economies=countries_code['code'].tolist()\n",
    "\n",
    "reporting_economies_str=\"\"\n",
    "for i in reporting_economies:\n",
    "    reporting_economies_str+=i+\",\"\n",
    "reporting_economies_str=reporting_economies_str[0:-1]\n"
   ]
  },
  {
   "cell_type": "code",
   "execution_count": 6,
   "metadata": {},
   "outputs": [],
   "source": [
    "partner_economies=countries_code['code'].tolist()\n",
    "partner_economies_str=\"\"\n",
    "for i in partner_economies:\n",
    "    if i in ['532','666']:\n",
    "        continue\n",
    "    partner_economies_str+=i+\",\"\n",
    "partner_economies_str=partner_economies_str[0:-1]\n"
   ]
  },
  {
   "cell_type": "code",
   "execution_count": null,
   "metadata": {},
   "outputs": [],
   "source": [
    "timePeriods=['2015']\n",
    "for timePeriod in timePeriods:\n",
    "    print(f'getting {timePeriod} data')\n",
    "    data=get_data(timePeriod,headers,reporting_economies_str,partner_economies_str,step=10000)\n",
    "    df=getDF(data,dtype=str)\n",
    "    df.to_csv(f'./data/data_{timePeriod}.csv',index=False)"
   ]
  },
  {
   "cell_type": "code",
   "execution_count": 9,
   "metadata": {},
   "outputs": [],
   "source": [
    "def reconnect(timePeriods,offset,step,end):\n",
    "    try:\n",
    "        for timePeriod in timePeriods:\n",
    "            print(f'getting {timePeriod} data')\n",
    "            data=get_data(timePeriod,headers,reporting_economies_str,partner_economies_str,offset=offset,step=step,end=end)\n",
    "            df=getDF(data,dtype=str)\n",
    "            df.to_csv(f'./data/data_json/data_{timePeriod}_{offset}_{end}.csv',index=False)\n",
    "    except Exception as e:\n",
    "        reconnect(timePeriods,offset,step,end)"
   ]
  },
  {
   "cell_type": "code",
   "execution_count": 11,
   "metadata": {},
   "outputs": [
    {
     "name": "stdout",
     "output_type": "stream",
     "text": [
      "getting 2015 data\n",
      "getting 2015 data14...     \t \n",
      "getting 2015 data42614...     \t \n",
      "getting 2015 data142614...     \t \n",
      "getting 2015 data142614...     \t \n",
      "getting 2015 data142614...     \t \n",
      "getting 2015 data142614...     \t \n",
      "getting 2015 data142614...     \t \n",
      "getting 2015 data142614...     \t \n",
      "getting 2015 data142614...     \t \n",
      "getting 2015 data142614...     \t \n",
      "getting 2015 data142614...     \t \n",
      "getting 2015 data142614...     \t \n",
      "getting 2015 data142614...     \t \n",
      "getting 2015 data142614...     \t \n",
      "getting 2015 data142614...     \t \n",
      "[Errno 104] Connection reset by peer\n",
      "getting 2015 data\n",
      "getting 2015 data142614...     \t \n",
      "getting 2015 data142614...     \t \n",
      "getting 2015 data142614...     \t \n",
      "getting 2015 data142614...     \t \n",
      "getting 2015 data142614...     \t \n",
      "getting 2015 data/142614...     \t \n",
      "getting 2015 data/142614...     \t \n",
      "getting 2015 data/142614...     \t \n",
      "getting 2015 data/142614...     \t \n",
      "getting 2015 data/142614...     \t \n",
      "getting 2015 data/142614...     \t \n",
      "getting 2015 data/142614...     \t \n",
      "getting 2015 data/142614...     \t \n",
      "getting 2015 data/142614...     \t \n",
      "collecting 145000/142614...     \t \r"
     ]
    }
   ],
   "source": [
    "##网络不好时则分段传输\n",
    "timePeriods=['2015']\n",
    "offset=0\n",
    "step=5000\n",
    "total_end=145000\n",
    "while offset<=total_end:\n",
    "    end=offset+step\n",
    "    reconnect(timePeriods,offset,step,end)\n",
    "    offset+=step"
   ]
  },
  {
   "cell_type": "code",
   "execution_count": 27,
   "metadata": {},
   "outputs": [
    {
     "name": "stdout",
     "output_type": "stream",
     "text": [
      "getting 2017 data\n",
      "[Errno 104] Connection reset by peer\n",
      "getting 2017 data\n",
      "getting 2017 data125204...     \t \n",
      "getting 2017 data125204...     \t \n",
      "getting 2017 data/125204...     \t \n",
      "getting 2017 data/125204...     \t \n",
      "getting 2017 data/125204...     \t \n",
      "collecting 130000/125204...     \t \r"
     ]
    }
   ],
   "source": [
    "timePeriods=['2017']\n",
    "for i in range(8,14):\n",
    "    offset=i*10000\n",
    "    step=5000\n",
    "    end=(i+1)*10000\n",
    "    reconnect(timePeriods,offset,step,end)"
   ]
  },
  {
   "cell_type": "markdown",
   "metadata": {},
   "source": [
    "## 获取products/sectors info"
   ]
  },
  {
   "cell_type": "code",
   "execution_count": 7,
   "metadata": {},
   "outputs": [],
   "source": [
    "params = urllib.parse.urlencode({\n",
    "    # Request parameters\n",
    "    'pc': 'MT2',\n",
    "    'lang': '1',\n",
    "})\n",
    "\n",
    "try:\n",
    "    conn = http.client.HTTPSConnection('api.wto.org')\n",
    "    conn.request(\"GET\", \"/timeseries/v1/products?%s\" % params, \"{body}\", headers)\n",
    "    response = conn.getresponse()\n",
    "    data = response.read()\n",
    "    json_data=data.decode('utf8')\n",
    "    data=json.loads(json_data)\n",
    "    conn.close()\n",
    "except Exception as e:\n",
    "    print(\"[Errno {0}] {1}\".format(e.errno, e.strerror))\n",
    "\n",
    "df=getDF(data,dtype=str)\n",
    "df.to_csv('./data/ProductOrSectorCode_detail.csv',index=False)"
   ]
  },
  {
   "cell_type": "code",
   "execution_count": 8,
   "metadata": {},
   "outputs": [
    {
     "data": {
      "text/html": [
       "<div>\n",
       "<style scoped>\n",
       "    .dataframe tbody tr th:only-of-type {\n",
       "        vertical-align: middle;\n",
       "    }\n",
       "\n",
       "    .dataframe tbody tr th {\n",
       "        vertical-align: top;\n",
       "    }\n",
       "\n",
       "    .dataframe thead th {\n",
       "        text-align: right;\n",
       "    }\n",
       "</style>\n",
       "<table border=\"1\" class=\"dataframe\">\n",
       "  <thead>\n",
       "    <tr style=\"text-align: right;\">\n",
       "      <th></th>\n",
       "      <th>code</th>\n",
       "      <th>name</th>\n",
       "      <th>note</th>\n",
       "      <th>productClassification</th>\n",
       "      <th>codeUnique</th>\n",
       "      <th>displayOrder</th>\n",
       "      <th>hierarchy</th>\n",
       "    </tr>\n",
       "  </thead>\n",
       "  <tbody>\n",
       "    <tr>\n",
       "      <th>0</th>\n",
       "      <td>01</td>\n",
       "      <td>Animal products</td>\n",
       "      <td>None</td>\n",
       "      <td>MT2</td>\n",
       "      <td>MT2 - 01 -</td>\n",
       "      <td>None</td>\n",
       "      <td>01</td>\n",
       "    </tr>\n",
       "    <tr>\n",
       "      <th>1</th>\n",
       "      <td>02</td>\n",
       "      <td>Dairy products</td>\n",
       "      <td>None</td>\n",
       "      <td>MT2</td>\n",
       "      <td>MT2 - 02 -</td>\n",
       "      <td>None</td>\n",
       "      <td>02</td>\n",
       "    </tr>\n",
       "    <tr>\n",
       "      <th>2</th>\n",
       "      <td>03</td>\n",
       "      <td>Fruits, vegetables, plants</td>\n",
       "      <td>None</td>\n",
       "      <td>MT2</td>\n",
       "      <td>MT2 - 03 -</td>\n",
       "      <td>None</td>\n",
       "      <td>03</td>\n",
       "    </tr>\n",
       "    <tr>\n",
       "      <th>3</th>\n",
       "      <td>04</td>\n",
       "      <td>Coffee, tea</td>\n",
       "      <td>None</td>\n",
       "      <td>MT2</td>\n",
       "      <td>MT2 - 04 -</td>\n",
       "      <td>None</td>\n",
       "      <td>04</td>\n",
       "    </tr>\n",
       "    <tr>\n",
       "      <th>4</th>\n",
       "      <td>05</td>\n",
       "      <td>Cereals and preparations</td>\n",
       "      <td>None</td>\n",
       "      <td>MT2</td>\n",
       "      <td>MT2 - 05 -</td>\n",
       "      <td>None</td>\n",
       "      <td>05</td>\n",
       "    </tr>\n",
       "  </tbody>\n",
       "</table>\n",
       "</div>"
      ],
      "text/plain": [
       "  code                        name  note productClassification  codeUnique  \\\n",
       "0   01             Animal products  None                   MT2  MT2 - 01 -   \n",
       "1   02              Dairy products  None                   MT2  MT2 - 02 -   \n",
       "2   03  Fruits, vegetables, plants  None                   MT2  MT2 - 03 -   \n",
       "3   04                 Coffee, tea  None                   MT2  MT2 - 04 -   \n",
       "4   05    Cereals and preparations  None                   MT2  MT2 - 05 -   \n",
       "\n",
       "  displayOrder hierarchy  \n",
       "0         None        01  \n",
       "1         None        02  \n",
       "2         None        03  \n",
       "3         None        04  \n",
       "4         None        05  "
      ]
     },
     "execution_count": 8,
     "metadata": {},
     "output_type": "execute_result"
    }
   ],
   "source": [
    "df.head()"
   ]
  },
  {
   "cell_type": "markdown",
   "metadata": {},
   "source": [
    "###获取国家坐标"
   ]
  },
  {
   "cell_type": "code",
   "execution_count": 16,
   "metadata": {},
   "outputs": [],
   "source": [
    "iso3A_to2A=pd.read_csv('./lib/wikipedia-iso-country-codes.csv')\n",
    "iso3A_to2A=iso3A_to2A.loc[:,['Alpha-2 code','Alpha-3 code']]\n",
    "iso3A_to2A.set_index('Alpha-2 code',inplace=True)\n",
    "iso3A_to2A=iso3A_to2A.to_dict()['Alpha-3 code']\n",
    "\n",
    "iso2A_to_location=pd.read_csv('./lib/countries.csv')\n",
    "iso2A_to_location['iso3A']=0\n",
    "\n",
    "d={}\n",
    "for i in range(0,len(iso2A_to_location)):\n",
    "    iso2A=iso2A_to_location['country'][i]\n",
    "    if iso3A_to2A.get(iso2A):\n",
    "        iso_3A=iso3A_to2A[iso2A]\n",
    "        latitude=iso2A_to_location['latitude'][i]\n",
    "        longitude=iso2A_to_location['longitude'][i]\n",
    "        d[iso_3A]={'latitude':latitude,'longitude':longitude}\n"
   ]
  },
  {
   "cell_type": "code",
   "execution_count": 17,
   "metadata": {},
   "outputs": [
    {
     "data": {
      "text/plain": [
       "{'latitude': 42.546245, 'longitude': 1.601554}"
      ]
     },
     "execution_count": 17,
     "metadata": {},
     "output_type": "execute_result"
    }
   ],
   "source": [
    "d['AND']"
   ]
  },
  {
   "cell_type": "code",
   "execution_count": 18,
   "metadata": {},
   "outputs": [],
   "source": [
    "country_codes=pd.read_csv('./data/countries_code.csv',dtype=str)\n",
    "country_codes.drop(['displayOrder'],inplace=True,axis=1)\n",
    "country_codes['latitude']=np.nan\n",
    "country_codes['longitude']=np.nan\n",
    "for i in range(0,len(country_codes)):\n",
    "    iso3A=country_codes['iso3A'][i]\n",
    "    if d.get(iso3A):\n",
    "        country_codes.loc[i,'latitude']=d[iso3A]['latitude']\n",
    "        country_codes.loc[i,'longitude']=d[iso3A]['longitude']"
   ]
  },
  {
   "cell_type": "code",
   "execution_count": 19,
   "metadata": {},
   "outputs": [
    {
     "data": {
      "text/html": [
       "<div>\n",
       "<style scoped>\n",
       "    .dataframe tbody tr th:only-of-type {\n",
       "        vertical-align: middle;\n",
       "    }\n",
       "\n",
       "    .dataframe tbody tr th {\n",
       "        vertical-align: top;\n",
       "    }\n",
       "\n",
       "    .dataframe thead th {\n",
       "        text-align: right;\n",
       "    }\n",
       "</style>\n",
       "<table border=\"1\" class=\"dataframe\">\n",
       "  <thead>\n",
       "    <tr style=\"text-align: right;\">\n",
       "      <th></th>\n",
       "      <th>code</th>\n",
       "      <th>iso3A</th>\n",
       "      <th>name</th>\n",
       "      <th>latitude</th>\n",
       "      <th>longitude</th>\n",
       "    </tr>\n",
       "  </thead>\n",
       "  <tbody>\n",
       "    <tr>\n",
       "      <th>0</th>\n",
       "      <td>004</td>\n",
       "      <td>AFG</td>\n",
       "      <td>Afghanistan</td>\n",
       "      <td>33.939110</td>\n",
       "      <td>67.709953</td>\n",
       "    </tr>\n",
       "    <tr>\n",
       "      <th>1</th>\n",
       "      <td>008</td>\n",
       "      <td>ALB</td>\n",
       "      <td>Albania</td>\n",
       "      <td>41.153332</td>\n",
       "      <td>20.168331</td>\n",
       "    </tr>\n",
       "    <tr>\n",
       "      <th>2</th>\n",
       "      <td>012</td>\n",
       "      <td>DZA</td>\n",
       "      <td>Algeria</td>\n",
       "      <td>28.033886</td>\n",
       "      <td>1.659626</td>\n",
       "    </tr>\n",
       "    <tr>\n",
       "      <th>3</th>\n",
       "      <td>016</td>\n",
       "      <td>ASM</td>\n",
       "      <td>American Samoa</td>\n",
       "      <td>-14.270972</td>\n",
       "      <td>-170.132217</td>\n",
       "    </tr>\n",
       "    <tr>\n",
       "      <th>4</th>\n",
       "      <td>020</td>\n",
       "      <td>AND</td>\n",
       "      <td>Andorra</td>\n",
       "      <td>42.546245</td>\n",
       "      <td>1.601554</td>\n",
       "    </tr>\n",
       "  </tbody>\n",
       "</table>\n",
       "</div>"
      ],
      "text/plain": [
       "  code iso3A            name   latitude   longitude\n",
       "0  004   AFG     Afghanistan  33.939110   67.709953\n",
       "1  008   ALB         Albania  41.153332   20.168331\n",
       "2  012   DZA         Algeria  28.033886    1.659626\n",
       "3  016   ASM  American Samoa -14.270972 -170.132217\n",
       "4  020   AND         Andorra  42.546245    1.601554"
      ]
     },
     "execution_count": 19,
     "metadata": {},
     "output_type": "execute_result"
    }
   ],
   "source": [
    "country_codes.head()"
   ]
  },
  {
   "cell_type": "code",
   "execution_count": 20,
   "metadata": {},
   "outputs": [
    {
     "data": {
      "text/html": [
       "<div>\n",
       "<style scoped>\n",
       "    .dataframe tbody tr th:only-of-type {\n",
       "        vertical-align: middle;\n",
       "    }\n",
       "\n",
       "    .dataframe tbody tr th {\n",
       "        vertical-align: top;\n",
       "    }\n",
       "\n",
       "    .dataframe thead th {\n",
       "        text-align: right;\n",
       "    }\n",
       "</style>\n",
       "<table border=\"1\" class=\"dataframe\">\n",
       "  <thead>\n",
       "    <tr style=\"text-align: right;\">\n",
       "      <th></th>\n",
       "      <th>code</th>\n",
       "      <th>iso3A</th>\n",
       "      <th>name</th>\n",
       "      <th>latitude</th>\n",
       "      <th>longitude</th>\n",
       "    </tr>\n",
       "  </thead>\n",
       "  <tbody>\n",
       "    <tr>\n",
       "      <th>20</th>\n",
       "      <td>058</td>\n",
       "      <td>BLX</td>\n",
       "      <td>Belgium-Luxembourg</td>\n",
       "      <td>NaN</td>\n",
       "      <td>NaN</td>\n",
       "    </tr>\n",
       "    <tr>\n",
       "      <th>50</th>\n",
       "      <td>531</td>\n",
       "      <td>CUW</td>\n",
       "      <td>Curaçao</td>\n",
       "      <td>NaN</td>\n",
       "      <td>NaN</td>\n",
       "    </tr>\n",
       "    <tr>\n",
       "      <th>66</th>\n",
       "      <td>918</td>\n",
       "      <td>EEC</td>\n",
       "      <td>European Union</td>\n",
       "      <td>NaN</td>\n",
       "      <td>NaN</td>\n",
       "    </tr>\n",
       "    <tr>\n",
       "      <th>142</th>\n",
       "      <td>532</td>\n",
       "      <td>NaN</td>\n",
       "      <td>Netherlands Antilles (incl. Aruba)</td>\n",
       "      <td>NaN</td>\n",
       "      <td>NaN</td>\n",
       "    </tr>\n",
       "    <tr>\n",
       "      <th>164</th>\n",
       "      <td>642</td>\n",
       "      <td>ROM</td>\n",
       "      <td>Romania</td>\n",
       "      <td>NaN</td>\n",
       "      <td>NaN</td>\n",
       "    </tr>\n",
       "    <tr>\n",
       "      <th>169</th>\n",
       "      <td>534</td>\n",
       "      <td>SXM</td>\n",
       "      <td>Saint Martin</td>\n",
       "      <td>NaN</td>\n",
       "      <td>NaN</td>\n",
       "    </tr>\n",
       "    <tr>\n",
       "      <th>185</th>\n",
       "      <td>728</td>\n",
       "      <td>SSD</td>\n",
       "      <td>South Sudan</td>\n",
       "      <td>NaN</td>\n",
       "      <td>NaN</td>\n",
       "    </tr>\n",
       "    <tr>\n",
       "      <th>193</th>\n",
       "      <td>158</td>\n",
       "      <td>CHT</td>\n",
       "      <td>Chinese Taipei</td>\n",
       "      <td>NaN</td>\n",
       "      <td>NaN</td>\n",
       "    </tr>\n",
       "    <tr>\n",
       "      <th>212</th>\n",
       "      <td>888</td>\n",
       "      <td>NaN</td>\n",
       "      <td>UNMIK/Kosovo</td>\n",
       "      <td>NaN</td>\n",
       "      <td>NaN</td>\n",
       "    </tr>\n",
       "  </tbody>\n",
       "</table>\n",
       "</div>"
      ],
      "text/plain": [
       "    code iso3A                                name  latitude  longitude\n",
       "20   058   BLX                  Belgium-Luxembourg       NaN        NaN\n",
       "50   531   CUW                             Curaçao       NaN        NaN\n",
       "66   918   EEC                      European Union       NaN        NaN\n",
       "142  532   NaN  Netherlands Antilles (incl. Aruba)       NaN        NaN\n",
       "164  642   ROM                             Romania       NaN        NaN\n",
       "169  534   SXM                        Saint Martin       NaN        NaN\n",
       "185  728   SSD                         South Sudan       NaN        NaN\n",
       "193  158   CHT                      Chinese Taipei       NaN        NaN\n",
       "212  888   NaN                        UNMIK/Kosovo       NaN        NaN"
      ]
     },
     "execution_count": 20,
     "metadata": {},
     "output_type": "execute_result"
    }
   ],
   "source": [
    "empty=country_codes[country_codes.isnull().T.any()]\n",
    "empty"
   ]
  },
  {
   "cell_type": "code",
   "execution_count": 21,
   "metadata": {},
   "outputs": [
    {
     "data": {
      "text/plain": [
       "[20, 50, 66, 142, 164, 169, 185, 193, 212]"
      ]
     },
     "execution_count": 21,
     "metadata": {},
     "output_type": "execute_result"
    }
   ],
   "source": [
    "e_index=empty.index.to_list()\n",
    "e_index"
   ]
  },
  {
   "cell_type": "code",
   "execution_count": 22,
   "metadata": {},
   "outputs": [],
   "source": [
    "##手动查询\n",
    "location=[\n",
    "    [50.0547,5.4677],\n",
    "    [12.1696,68.99],\n",
    "    [53,9],\n",
    "    [12.5211,69.9683],\n",
    "    [45.9432,24.9668],#Romania\n",
    "    [18.0718,63.0501],#Saint Martin\t\n",
    "    [6.8770,31.3070],#South Sudan\n",
    "    [23.6978,120.9605],#Chinese Taipei\n",
    "    [42.6026,20.9030]\n",
    "\n",
    "]"
   ]
  },
  {
   "cell_type": "code",
   "execution_count": 23,
   "metadata": {},
   "outputs": [
    {
     "data": {
      "text/html": [
       "<div>\n",
       "<style scoped>\n",
       "    .dataframe tbody tr th:only-of-type {\n",
       "        vertical-align: middle;\n",
       "    }\n",
       "\n",
       "    .dataframe tbody tr th {\n",
       "        vertical-align: top;\n",
       "    }\n",
       "\n",
       "    .dataframe thead th {\n",
       "        text-align: right;\n",
       "    }\n",
       "</style>\n",
       "<table border=\"1\" class=\"dataframe\">\n",
       "  <thead>\n",
       "    <tr style=\"text-align: right;\">\n",
       "      <th></th>\n",
       "      <th>code</th>\n",
       "      <th>iso3A</th>\n",
       "      <th>name</th>\n",
       "      <th>latitude</th>\n",
       "      <th>longitude</th>\n",
       "    </tr>\n",
       "  </thead>\n",
       "  <tbody>\n",
       "    <tr>\n",
       "      <th>20</th>\n",
       "      <td>058</td>\n",
       "      <td>BLX</td>\n",
       "      <td>Belgium-Luxembourg</td>\n",
       "      <td>50.0547</td>\n",
       "      <td>5.4677</td>\n",
       "    </tr>\n",
       "    <tr>\n",
       "      <th>50</th>\n",
       "      <td>531</td>\n",
       "      <td>CUW</td>\n",
       "      <td>Curaçao</td>\n",
       "      <td>12.1696</td>\n",
       "      <td>68.9900</td>\n",
       "    </tr>\n",
       "    <tr>\n",
       "      <th>66</th>\n",
       "      <td>918</td>\n",
       "      <td>EEC</td>\n",
       "      <td>European Union</td>\n",
       "      <td>53.0000</td>\n",
       "      <td>9.0000</td>\n",
       "    </tr>\n",
       "    <tr>\n",
       "      <th>142</th>\n",
       "      <td>532</td>\n",
       "      <td>NaN</td>\n",
       "      <td>Netherlands Antilles (incl. Aruba)</td>\n",
       "      <td>12.5211</td>\n",
       "      <td>69.9683</td>\n",
       "    </tr>\n",
       "    <tr>\n",
       "      <th>164</th>\n",
       "      <td>642</td>\n",
       "      <td>ROM</td>\n",
       "      <td>Romania</td>\n",
       "      <td>45.9432</td>\n",
       "      <td>24.9668</td>\n",
       "    </tr>\n",
       "    <tr>\n",
       "      <th>169</th>\n",
       "      <td>534</td>\n",
       "      <td>SXM</td>\n",
       "      <td>Saint Martin</td>\n",
       "      <td>18.0718</td>\n",
       "      <td>63.0501</td>\n",
       "    </tr>\n",
       "    <tr>\n",
       "      <th>185</th>\n",
       "      <td>728</td>\n",
       "      <td>SSD</td>\n",
       "      <td>South Sudan</td>\n",
       "      <td>6.8770</td>\n",
       "      <td>31.3070</td>\n",
       "    </tr>\n",
       "    <tr>\n",
       "      <th>193</th>\n",
       "      <td>158</td>\n",
       "      <td>CHT</td>\n",
       "      <td>Chinese Taipei</td>\n",
       "      <td>23.6978</td>\n",
       "      <td>120.9605</td>\n",
       "    </tr>\n",
       "    <tr>\n",
       "      <th>212</th>\n",
       "      <td>888</td>\n",
       "      <td>NaN</td>\n",
       "      <td>UNMIK/Kosovo</td>\n",
       "      <td>42.6026</td>\n",
       "      <td>20.9030</td>\n",
       "    </tr>\n",
       "  </tbody>\n",
       "</table>\n",
       "</div>"
      ],
      "text/plain": [
       "    code iso3A                                name  latitude  longitude\n",
       "20   058   BLX                  Belgium-Luxembourg   50.0547     5.4677\n",
       "50   531   CUW                             Curaçao   12.1696    68.9900\n",
       "66   918   EEC                      European Union   53.0000     9.0000\n",
       "142  532   NaN  Netherlands Antilles (incl. Aruba)   12.5211    69.9683\n",
       "164  642   ROM                             Romania   45.9432    24.9668\n",
       "169  534   SXM                        Saint Martin   18.0718    63.0501\n",
       "185  728   SSD                         South Sudan    6.8770    31.3070\n",
       "193  158   CHT                      Chinese Taipei   23.6978   120.9605\n",
       "212  888   NaN                        UNMIK/Kosovo   42.6026    20.9030"
      ]
     },
     "execution_count": 23,
     "metadata": {},
     "output_type": "execute_result"
    }
   ],
   "source": [
    "country_codes.loc[e_index,['latitude','longitude']]=location\n",
    "country_codes.iloc[e_index,:]"
   ]
  },
  {
   "cell_type": "code",
   "execution_count": 24,
   "metadata": {},
   "outputs": [],
   "source": [
    "country_codes.to_csv('./data/countries_info.csv',index=False)"
   ]
  },
  {
   "cell_type": "code",
   "execution_count": null,
   "metadata": {},
   "outputs": [],
   "source": []
  }
 ],
 "metadata": {
  "interpreter": {
   "hash": "916dbcbb3f70747c44a77c7bcd40155683ae19c65e1c03b4aa3499c5328201f1"
  },
  "kernelspec": {
   "display_name": "Python 3.8.10 64-bit",
   "language": "python",
   "name": "python3"
  },
  "language_info": {
   "codemirror_mode": {
    "name": "ipython",
    "version": 3
   },
   "file_extension": ".py",
   "mimetype": "text/x-python",
   "name": "python",
   "nbconvert_exporter": "python",
   "pygments_lexer": "ipython3",
   "version": "3.8.10"
  },
  "orig_nbformat": 4
 },
 "nbformat": 4,
 "nbformat_minor": 2
}
